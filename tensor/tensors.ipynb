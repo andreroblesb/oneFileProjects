{
 "cells": [
  {
   "cell_type": "code",
   "execution_count": 1,
   "metadata": {},
   "outputs": [],
   "source": [
    "import numpy as np\n",
    "import tensorflow as tf"
   ]
  },
  {
   "cell_type": "code",
   "execution_count": 2,
   "metadata": {},
   "outputs": [
    {
     "name": "stdout",
     "output_type": "stream",
     "text": [
      "[2 4 6]\n",
      "shape (3,)\n",
      "size 3\n"
     ]
    }
   ],
   "source": [
    "# The catch here is that numpy makes array operations element-wise\n",
    "a = np.array([1, 2, 3])\n",
    "b = np.array([1, 2, 3])\n",
    "print(a+b)\n",
    "print(f\"shape {a.shape}\")\n",
    "print(f\"size {a.size}\")"
   ]
  },
  {
   "cell_type": "code",
   "execution_count": 3,
   "metadata": {},
   "outputs": [
    {
     "name": "stdout",
     "output_type": "stream",
     "text": [
      "shape (2, 3, 3)\n",
      "tf.Tensor(\n",
      "[[[ 2  4  6]\n",
      "  [ 8 10 12]\n",
      "  [14 16 18]]\n",
      "\n",
      " [[ 2  4  6]\n",
      "  [ 8 10 12]\n",
      "  [14 16 18]]], shape=(2, 3, 3), dtype=int64)\n",
      "tf.Tensor(\n",
      "[[[1. 1. 1.]\n",
      "  [1. 1. 1.]\n",
      "  [1. 1. 1.]]\n",
      "\n",
      " [[1. 1. 1.]\n",
      "  [1. 1. 1.]\n",
      "  [1. 1. 1.]]], shape=(2, 3, 3), dtype=float64)\n"
     ]
    }
   ],
   "source": [
    "e = np.array([ [[1, 2, 3], [4, 5, 6], [7, 8, 9]], [[1, 2, 3], [4, 5, 6], [7, 8, 9]]])\n",
    "# no me queda claro si el reshape es un unravel total, si quita la innermost o la outermost dimensión\n",
    "print(f\"shape {e.shape}\")\n",
    "# e = e.reshape(-1)\n",
    "# print(e)\n",
    "# convertir ahora sí a un tensor mi bro\n",
    "e = tf.convert_to_tensor(e)\n",
    "c = e\n",
    "print(c+e)\n",
    "print(c/e)"
   ]
  },
  {
   "cell_type": "code",
   "execution_count": 4,
   "metadata": {},
   "outputs": [],
   "source": [
    "# vamos a probar la diferencia entre tensorflow tensors y numpy arrays (parallel vs element-wise)\n",
    "import time"
   ]
  },
  {
   "cell_type": "code",
   "execution_count": 5,
   "metadata": {},
   "outputs": [
    {
     "name": "stdout",
     "output_type": "stream",
     "text": [
      "time elapsed for numpy: 3165600\n",
      "time elapsed for numpy: 6643900\n"
     ]
    }
   ],
   "source": [
    "a = np.arange(1000000, dtype=np.float32)\n",
    "b = np.arange(1000000, dtype=np.float32)\n",
    "start = time.perf_counter_ns()\n",
    "c = a + b\n",
    "end = time.perf_counter_ns()\n",
    "time_elapsed = end-start\n",
    "print(f\"time elapsed for numpy: {time_elapsed}\")\n",
    "\n",
    "a = tf.convert_to_tensor(a)\n",
    "b = tf.convert_to_tensor(b)\n",
    "start = time.perf_counter_ns()\n",
    "c = a + b\n",
    "end = time.perf_counter_ns()\n",
    "time_elapsed = end-start\n",
    "print(f\"time elapsed for numpy: {time_elapsed}\")\n",
    "# turns out for simple operations numpy might occasionally win cause it is highly optimized"
   ]
  }
 ],
 "metadata": {
  "kernelspec": {
   "display_name": "venv",
   "language": "python",
   "name": "python3"
  },
  "language_info": {
   "codemirror_mode": {
    "name": "ipython",
    "version": 3
   },
   "file_extension": ".py",
   "mimetype": "text/x-python",
   "name": "python",
   "nbconvert_exporter": "python",
   "pygments_lexer": "ipython3",
   "version": "3.12.8"
  }
 },
 "nbformat": 4,
 "nbformat_minor": 2
}
